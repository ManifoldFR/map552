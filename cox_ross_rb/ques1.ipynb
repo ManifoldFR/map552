{
 "cells": [
  {
   "cell_type": "code",
   "execution_count": 3,
   "metadata": {},
   "outputs": [],
   "source": [
    "import numpy as np"
   ]
  },
  {
   "cell_type": "markdown",
   "metadata": {},
   "source": [
    "# Question 1"
   ]
  },
  {
   "cell_type": "markdown",
   "metadata": {},
   "source": [
    "## 1a)\n",
    "\n",
    "The price process of the risky asset $S^n = \\{S^n_0, \\ldots, S^n_n\\}$ is such that $S^n_j = S_0\\exp\\left(jb_n + \\sigma_n\\sum_{l=1}^j Z_l \\right)$ at time $j$, where the $Z_l$ are such that\n",
    "$$\n",
    "    \\mathbb P[Z_l = -1] = \\mathbb P[Z_l = 1] = 1/2.\n",
    "$$\n",
    "\n",
    "Thus, in the definition $S^n_j(i) = S_0u^{j-i}d^i = S_0\\exp\\left(jb_n + \\sigma_n(j - 2i)\\right)$, $i$ is the number of $l\\in\\{0,\\ldots,j\\}$ such that $Z_l = -1$."
   ]
  },
  {
   "cell_type": "code",
   "execution_count": 7,
   "metadata": {},
   "outputs": [
    {
     "name": "stdout",
     "output_type": "stream",
     "text": [
      "[174.46685854 106.89391057  65.49271428]\n"
     ]
    }
   ],
   "source": [
    "S0 = 100\n",
    "sigma = 0.3\n",
    "r = b = 0.05\n",
    "T = 2\n",
    "\n",
    "def udcoeffs(T, n, b, sigma):\n",
    "    hn = T/n\n",
    "    u = np.exp(b*hn + sigma*np.sqrt(hn)),\n",
    "    d = np.exp(b*hn - sigma*np.sqrt(hn))\n",
    "    return u,d\n",
    "\n",
    "\n",
    "def Sn(T, n, b, sigma, j):\n",
    "    \"\"\"\n",
    "    Vector of all possible prices for the option of maturity T, at time j.\n",
    "    \"\"\"\n",
    "    u, d = udcoeffs(T, n, b, sigma)\n",
    "    indices = np.arange(0, j+1)\n",
    "    return S0*np.power(u, j-indices)*np.power(d, indices)\n",
    "\n",
    "n = 3\n",
    "snj = Sn(T, n, b, sigma, 2)\n",
    "print(snj)"
   ]
  },
  {
   "cell_type": "markdown",
   "metadata": {},
   "source": [
    "## 1b)"
   ]
  },
  {
   "cell_type": "code",
   "execution_count": 29,
   "metadata": {},
   "outputs": [
    {
     "data": {
      "text/plain": [
       "array([158.44612609,  69.19178737,  14.50664326,   0.        ])"
      ]
     },
     "execution_count": 29,
     "metadata": {},
     "output_type": "execute_result"
    }
   ],
   "source": [
    "def Payoffn(T, n, b, sigma, K):\n",
    "    \"\"\"\n",
    "    Compute the Payoff of an European call option with maturity T,\n",
    "    and strike K.\n",
    "    \"\"\"\n",
    "    ## current time is maturity, j=n\n",
    "    snT = Sn(T, n, b, sigma, n)\n",
    "    delta = snT - K\n",
    "    vals = np.stack([delta, np.zeros_like(delta)])\n",
    "    return np.max(vals, 0) # Maximum selon la première dimension, donc les valeurs max(snT-K, 0)\n",
    "\n",
    "K = 72\n",
    "Payoffn(T, 3, b, sigma, K)"
   ]
  },
  {
   "cell_type": "markdown",
   "metadata": {},
   "source": [
    "## 1c)\n",
    "\n",
    "The underlying probability distribution of the number $i\\in\\{0,\\ldots,j\\}$ of $l$s such that $Z_l = -1$ is the binomial distribution $\\mathcal B(n,p)$ with $p=1/2$ for the standard probability law $\\mathbb P$."
   ]
  },
  {
   "cell_type": "code",
   "execution_count": 37,
   "metadata": {},
   "outputs": [
    {
     "data": {
      "text/plain": [
       "11.580262475923083"
      ]
     },
     "execution_count": 37,
     "metadata": {},
     "output_type": "execute_result"
    }
   ],
   "source": [
    "import scipy.stats\n",
    "\n",
    "def Calln(T, n, r, b, sigma, K):\n",
    "    \"\"\"\n",
    "    Compute the price of an European call option\n",
    "    \"\"\"\n",
    "    p = 0.5\n",
    "    dist = scipy.stats.binom(n, p)\n",
    "    weights = dist.pmf(np.arange(0, n+1))\n",
    "    payoff = Payoffn(T, n, b, sigma, K)\n",
    "    # Price is the adjusted expected value of the payoff\n",
    "    return np.exp(-r*T)*np.mean(weights*payoff)\n",
    "\n",
    "Calln(T, n, r, b, sigma, K)"
   ]
  },
  {
   "cell_type": "markdown",
   "metadata": {},
   "source": [
    "## 1d)"
   ]
  },
  {
   "cell_type": "markdown",
   "metadata": {},
   "source": [
    "Under the new probability $\\mathbb Q_n$ and conditionally to the knowledge of the price process up to time $j=k$, we can deduce $S^n_{k+1} = u S^n_{k}$ with probability $q_n$ because it is exactly the probability that $Z_n = 1$. Conversely\n",
    "$$\n",
    "    \\mathbb Q_n \\left[ S^n_{k+1} = d S^n_{k} \\,|\\, \\mathcal F^n_{k} \\right] = 1-q_n.\n",
    "$$\n",
    "\n",
    "Thus,\n",
    "$$\n",
    "    \\mathbb E^{\\mathbb Q_n}_{k}\\left[ B^n_{k+1} \\right] = q_n(u S^n_{k} - K)^+ + (1 - q_n)(dS^n_{k} - K)^+\n",
    "$$"
   ]
  },
  {
   "cell_type": "code",
   "execution_count": 44,
   "metadata": {},
   "outputs": [],
   "source": [
    "def Deltan(T, n, r, b, sigma, K, j):\n",
    "    \"\"\"\n",
    "    \"\"\"\n",
    "    # Price process at current time j\n",
    "    snj = Sn(T, n, b, sigma, j)\n",
    "    u, d = udcoeffs(T, n, b, sigma)\n",
    "    hn = T/n\n",
    "    rn = np.exp(r*hn)\n",
    "    # Risk neutral probability\n",
    "    qn = (rn - d)/(u - d)\n",
    "    \n",
    "    zeros = np.zeros_like(snj)\n",
    "    bnju = np.max(np.stack([u*snj-K, zeros]), 0)\n",
    "    bnjd = np.max(np.stack([d*snj-K, zeros]), 0)\n",
    "    bnj = qn*bnju + (1-qn)*bnjd\n",
    "    thenj = (bnju - bnjd)/(u*snj - d*snj)\n",
    "    return bnj, thenj"
   ]
  },
  {
   "cell_type": "code",
   "execution_count": 45,
   "metadata": {},
   "outputs": [
    {
     "data": {
      "text/plain": [
       "(array([64.56297  , 15.3207687]), array([1.        , 0.84282373]))"
      ]
     },
     "execution_count": 45,
     "metadata": {},
     "output_type": "execute_result"
    }
   ],
   "source": [
    "Deltan(T, n, r, b, sigma, K, 1)"
   ]
  },
  {
   "cell_type": "code",
   "execution_count": null,
   "metadata": {},
   "outputs": [],
   "source": []
  },
  {
   "cell_type": "code",
   "execution_count": 46,
   "metadata": {},
   "outputs": [],
   "source": [
    "n = 50\n",
    "\n",
    "K_values = [80+i for i in range(41)]"
   ]
  },
  {
   "cell_type": "code",
   "execution_count": null,
   "metadata": {},
   "outputs": [],
   "source": []
  },
  {
   "cell_type": "code",
   "execution_count": 48,
   "metadata": {},
   "outputs": [],
   "source": [
    "call_values = [Calln(T, n, r, b, sigma, K) for K in K_values]"
   ]
  },
  {
   "cell_type": "code",
   "execution_count": 49,
   "metadata": {},
   "outputs": [],
   "source": [
    "import matplotlib.pyplot as plt"
   ]
  },
  {
   "cell_type": "code",
   "execution_count": 67,
   "metadata": {},
   "outputs": [
    {
     "data": {
      "text/plain": [
       "Text(0,0.5,'Price')"
      ]
     },
     "execution_count": 67,
     "metadata": {},
     "output_type": "execute_result"
    },
    {
     "data": {
      "image/png": "[encoded data removed]",
      "text/plain": [
       "<Figure size 800x500 with 1 Axes>"
      ]
     },
     "metadata": {
      "needs_background": "light"
     },
     "output_type": "display_data"
    }
   ],
   "source": [
    "plt.figure(figsize=(8,5), dpi=100)\n",
    "plt.plot(K_values, call_values, '+')\n",
    "plt.xlabel(\"Strike $K$\")\n",
    "plt.ylabel(\"Price\")"
   ]
  },
  {
   "cell_type": "markdown",
   "metadata": {},
   "source": [
    "The option price for the European call option is convex and decreasing in the strike $K$, as expected as per the properties of such call options."
   ]
  },
  {
   "cell_type": "code",
   "execution_count": null,
   "metadata": {},
   "outputs": [],
   "source": []
  },
  {
   "cell_type": "code",
   "execution_count": null,
   "metadata": {},
   "outputs": [],
   "source": []
  }
 ],
 "metadata": {
  "kernelspec": {
   "display_name": "Python 3",
   "language": "python",
   "name": "python3"
  },
  "language_info": {
   "codemirror_mode": {
    "name": "ipython",
    "version": 3
   },
   "file_extension": ".py",
   "mimetype": "text/x-python",
   "name": "python",
   "nbconvert_exporter": "python",
   "pygments_lexer": "ipython3",
   "version": "3.7.0"
  }
 },
 "nbformat": 4,
 "nbformat_minor": 2
}
