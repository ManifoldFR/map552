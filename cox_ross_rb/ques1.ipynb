{
 "cells": [
  {
   "cell_type": "code",
   "execution_count": 1,
   "metadata": {},
   "outputs": [],
   "source": [
    "import numpy as np"
   ]
  },
  {
   "cell_type": "markdown",
   "metadata": {},
   "source": [
    "# Question 1"
   ]
  },
  {
   "cell_type": "markdown",
   "metadata": {},
   "source": [
    "## 1a)"
   ]
  },
  {
   "cell_type": "code",
   "execution_count": 40,
   "metadata": {},
   "outputs": [
    {
     "name": "stdout",
     "output_type": "stream",
     "text": [
      "[174.46685854 106.89391057]\n"
     ]
    }
   ],
   "source": [
    "S0 = 100\n",
    "sigma = 0.3\n",
    "r = b = 0.05\n",
    "T = 2\n",
    "\n",
    "\n",
    "def Sn(T, n, b, sigma, j):\n",
    "    \"\"\"\n",
    "    Vector of all possible prices for the option of maturity T, at time j.\n",
    "    \"\"\"\n",
    "    hn = T/n\n",
    "    u = np.exp(b*hn + sigma*np.sqrt(hn)),\n",
    "    d = np.exp(b*hn - sigma*np.sqrt(hn))\n",
    "    indices = np.arange(0, j)\n",
    "    return S0*np.power(u, j-indices)*np.power(d, indices)\n",
    "\n",
    "n = 3\n",
    "snj = Sn(T, n, b, sigma, 2)\n",
    "print(snj)"
   ]
  },
  {
   "cell_type": "markdown",
   "metadata": {},
   "source": [
    "## 1b)"
   ]
  },
  {
   "cell_type": "code",
   "execution_count": 41,
   "metadata": {},
   "outputs": [],
   "source": [
    "def Payoffn(T, n, b, sigma, K):\n",
    "    \"\"\"\n",
    "    Compute the Payoff of a European call option with maturity T,\n",
    "    and strike K.\n",
    "    \"\"\"\n",
    "    ## current time is maturity, j=T\n",
    "    snT = Sn(T, n, b, sigma, T)\n",
    "    delta = snj - K\n",
    "    vals = np.stack([delta, np.zeros_like(delta)])\n",
    "    return np.max(vals, 0) # Maximum selon la première dimension, donc les valeurs max(snj-K, 0)\n",
    "\n",
    "Payoffn(T, 5, b, sigma, 110)"
   ]
  },
  {
   "cell_type": "markdown",
   "metadata": {},
   "source": [
    "## 1c)"
   ]
  },
  {
   "cell_type": "code",
   "execution_count": null,
   "metadata": {},
   "outputs": [],
   "source": [
    "def Calln(t, n, r, b, sigma, K):\n",
    "    \"\"\"\n",
    "    \"\"\"\n",
    "    payoff = Payoffn(T, n, b, sigma, K)\n",
    "    \n",
    "    return "
   ]
  },
  {
   "cell_type": "markdown",
   "metadata": {},
   "source": [
    "## 1d)"
   ]
  },
  {
   "cell_type": "code",
   "execution_count": null,
   "metadata": {},
   "outputs": [],
   "source": []
  },
  {
   "cell_type": "code",
   "execution_count": null,
   "metadata": {},
   "outputs": [],
   "source": []
  },
  {
   "cell_type": "code",
   "execution_count": null,
   "metadata": {},
   "outputs": [],
   "source": []
  },
  {
   "cell_type": "code",
   "execution_count": null,
   "metadata": {},
   "outputs": [],
   "source": []
  }
 ],
 "metadata": {
  "kernelspec": {
   "display_name": "Python 3",
   "language": "python",
   "name": "python3"
  },
  "language_info": {
   "codemirror_mode": {
    "name": "ipython",
    "version": 3
   },
   "file_extension": ".py",
   "mimetype": "text/x-python",
   "name": "python",
   "nbconvert_exporter": "python",
   "pygments_lexer": "ipython3",
   "version": "3.7.0"
  }
 },
 "nbformat": 4,
 "nbformat_minor": 2
}
