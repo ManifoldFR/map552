{
 "cells": [
  {
   "cell_type": "code",
   "execution_count": 1,
   "metadata": {},
   "outputs": [],
   "source": [
    "import numpy as np"
   ]
  },
  {
   "cell_type": "markdown",
   "metadata": {},
   "source": [
    "# Question 1"
   ]
  },
  {
   "cell_type": "markdown",
   "metadata": {},
   "source": [
    "## 1a)\n",
    "\n",
    "The price process of the risky asset $S^n = \\{S^n_0, \\ldots, S^n_n\\}$ is such that $S^n_j = S_0\\exp\\left(jb_n + \\sigma_n\\sum_{l=1}^j Z_l \\right)$ at time $j$, where the $Z_l$ are such that\n",
    "$$\n",
    "    \\mathbb P[Z_l = -1] = \\mathbb P[Z_l = 1] = 1/2.\n",
    "$$\n",
    "\n",
    "Thus, in the definition $S^n_j(i) = S_0u^{j-i}d^i = S_0\\exp\\left(jb_n + \\sigma_n(j - 2i)\\right)$, $i$ is the number of $l\\in\\{0,\\ldots,j\\}$ such that $Z_l = -1$."
   ]
  },
  {
   "cell_type": "code",
   "execution_count": 2,
   "metadata": {},
   "outputs": [
    {
     "name": "stdout",
     "output_type": "stream",
     "text": [
      "[136.34251141 120.92495977 107.25081813  95.12294245  84.36648166\n",
      "  74.82635676]\n"
     ]
    }
   ],
   "source": [
    "S0 = 100\n",
    "sigma = 0.3\n",
    "r = b = 0.05\n",
    "T = 2\n",
    "n = 50\n",
    "\n",
    "def udcoeffs(T, n, b, sigma):\n",
    "    hn = T/n\n",
    "    u = np.exp(b*hn + sigma*np.sqrt(hn))\n",
    "    d = np.exp(b*hn - sigma*np.sqrt(hn))\n",
    "    return u,d\n",
    "\n",
    "\n",
    "def Sn(S, T, n, b, sigma, j):\n",
    "    \"\"\"\n",
    "    Vector of all possible prices for the option of maturity T, at time j.\n",
    "    \"\"\"\n",
    "    u, d = udcoeffs(T, n, b, sigma)\n",
    "    indices = np.arange(0, j+1)\n",
    "    return S*np.power(u, j-indices)*np.power(d, indices)\n",
    "\n",
    "j = 5\n",
    "snj = Sn(S0, T, n, b, sigma, j)\n",
    "print(snj)"
   ]
  },
  {
   "cell_type": "markdown",
   "metadata": {},
   "source": [
    "## 1b)"
   ]
  },
  {
   "cell_type": "code",
   "execution_count": 3,
   "metadata": {},
   "outputs": [
    {
     "data": {
      "text/plain": [
       "array([2139.79512814, 1888.78166448, 1666.15269366, 1468.69850963,\n",
       "       1293.57235851, 1138.24939607, 1000.49028639,  878.30891668,\n",
       "        769.94376289,  673.83249337,  588.58944423,  512.98564186,\n",
       "        445.93108444,  386.4590271 ,  333.71204403,  286.92966676,\n",
       "        245.43742029,  208.63709893,  175.99814183,  147.04998375,\n",
       "        121.37527075,   98.60384308,   78.4073985 ,   60.49475906,\n",
       "         44.60767306,   30.51709181,   18.01986733,    6.93582354,\n",
       "          0.        ,    0.        ,    0.        ,    0.        ,\n",
       "          0.        ,    0.        ,    0.        ,    0.        ,\n",
       "          0.        ,    0.        ,    0.        ,    0.        ,\n",
       "          0.        ,    0.        ,    0.        ,    0.        ,\n",
       "          0.        ,    0.        ,    0.        ,    0.        ,\n",
       "          0.        ,    0.        ,    0.        ])"
      ]
     },
     "execution_count": 3,
     "metadata": {},
     "output_type": "execute_result"
    }
   ],
   "source": [
    "def Payoffn(S, T, n, b, sigma, K):\n",
    "    \"\"\"\n",
    "    Compute the Payoff of an European call option with maturity T,\n",
    "    and strike K.\n",
    "    \"\"\"\n",
    "    ## current time is maturity, j=n\n",
    "    snT = Sn(S, T, n, b, sigma, n)\n",
    "    delta = snT - K\n",
    "    vals = np.stack([delta, np.zeros_like(delta)])\n",
    "    return np.max(vals, 0) # Maximum selon la première dimension, donc les valeurs max(snT-K, 0)\n",
    "\n",
    "K = 80\n",
    "Payoffn(S0, T, n, b, sigma, K)"
   ]
  },
  {
   "cell_type": "markdown",
   "metadata": {},
   "source": [
    "## 1c)\n",
    "\n",
    "Let $N = \\sum_l \\frac{1+Z_l}{2}\\in\\{0,\\ldots,j\\}$ be the number of $l\\in\\{0,\\ldots,n\\}$ such that $Z_l = -1$. It follows the binomial distribution $\\mathcal B(n,1/2)$ for the standard probability law $\\mathbb P$."
   ]
  },
  {
   "cell_type": "markdown",
   "metadata": {},
   "source": [
    "Under the no-risk probability $\\mathbb Q_n$ and conditionally to the knowledge of the price process up to time $j=k$, we have $S^n_{k+1} = u S^n_{k}$ with probability $q_n$ because it is exactly the probability that $Z_n = 1$. Conversely\n",
    "$$\n",
    "    \\mathbb Q_n \\left[ S^n_{k+1} = d S^n_{k} \\,|\\, \\mathcal F^n_{k} \\right] = 1-q_n.\n",
    "$$\n",
    "The variable $N$ follows the binomial law $\\mathcal B(n, 1-q_n)$ under $\\mathbb Q_n$.\n",
    "\n",
    "Thus,\n",
    "$$\n",
    "    \\mathbb E^{\\mathbb Q_n}_{k}\\left[ B^n_{k+1} \\right] = q_n(u S^n_{k} - K)^+ + (1 - q_n)(dS^n_{k} - K)^+\n",
    "$$"
   ]
  },
  {
   "cell_type": "markdown",
   "metadata": {},
   "source": [
    "In particular, the call option price is given by the total expectation\n",
    "$$\n",
    "    C = e^{-rT}\\mathbb E^{\\mathbb Q_n}\\left[ \\left(S_n^n - K\\right)^+ \\right] = e^{-rT} \\mathbb B\\cdot\\verb|payoff(T, n, b, sigma, K)|\n",
    "$$\n",
    "where the vector $\\mathbb B = \\left\\{\\mathbb Q_n\\left(N=i\\right)\\right\\}_i$"
   ]
  },
  {
   "cell_type": "code",
   "execution_count": 4,
   "metadata": {},
   "outputs": [
    {
     "data": {
      "text/plain": [
       "32.221526948181946"
      ]
     },
     "execution_count": 4,
     "metadata": {},
     "output_type": "execute_result"
    }
   ],
   "source": [
    "import scipy.stats\n",
    "\n",
    "def Calln(S, T, n, r, b, sigma, K):\n",
    "    \"\"\"\n",
    "    Compute the price of an European call option\n",
    "    \"\"\"\n",
    "    # Price process at current time j\n",
    "    u, d = udcoeffs(T, n, b, sigma)\n",
    "    hn = T/n\n",
    "    rn = np.exp(r*hn)\n",
    "    # Risk neutral probability\n",
    "    qn = (rn - d)/(u - d)\n",
    "\n",
    "    dist = scipy.stats.binom(n, 1-qn)\n",
    "    # Vector BB of Q_n(N = i)\n",
    "    weights = dist.pmf(np.arange(0, n+1))\n",
    "\n",
    "    payoff = Payoffn(S, T, n, b, sigma, K)\n",
    "    # Price is the adjusted expected value of the payoff\n",
    "    # weighted by the binomial distribution B(n, qn)\n",
    "    p = np.vdot(weights, payoff)\n",
    "    \n",
    "    return np.exp(-r*T)*p\n",
    "\n",
    "Calln(S0, T, n, r, b, sigma, K)"
   ]
  },
  {
   "cell_type": "markdown",
   "metadata": {},
   "source": [
    "## 1d)"
   ]
  },
  {
   "cell_type": "code",
   "execution_count": 5,
   "metadata": {},
   "outputs": [],
   "source": [
    "def Deltan(S, T, n, r, b, sigma, K, j):\n",
    "    \"\"\"\n",
    "    \n",
    "    \"\"\"\n",
    "    assert j <= n\n",
    "    # Price process at current time j\n",
    "    snj  = Sn(S, T, n, b, sigma, j)\n",
    "    # next expected prices\n",
    "    snj1 = Sn(S, T, n, b, sigma, j+1)\n",
    "    u, d = udcoeffs(T, n, b, sigma)\n",
    "\n",
    "    # Compute the call prices for every price instante in the future\n",
    "    calls_new_ = [Calln(S, T, n, r, b, sigma, K) for S in snj1]\n",
    "    \n",
    "    thetnj = [\n",
    "        (calls_new_[i] - calls_new_[i+1])/(u*snj[i] - d*snj[i]) for i in range(j+1)\n",
    "    ]\n",
    "    return thetnj"
   ]
  },
  {
   "cell_type": "code",
   "execution_count": 6,
   "metadata": {},
   "outputs": [
    {
     "data": {
      "text/plain": [
       "[0.9925714973116623,\n",
       " 0.9842257355689848,\n",
       " 0.9689734730219524,\n",
       " 0.9432975564674919,\n",
       " 0.9034223327493968,\n",
       " 0.8462219583247668,\n",
       " 0.7703593316512088,\n",
       " 0.6772711698810366,\n",
       " 0.5715411791255111,\n",
       " 0.46035838068566004,\n",
       " 0.35211237534597517]"
      ]
     },
     "execution_count": 6,
     "metadata": {},
     "output_type": "execute_result"
    }
   ],
   "source": [
    "Deltan(S0, T, n, r, b, sigma, K, 10)"
   ]
  },
  {
   "cell_type": "code",
   "execution_count": null,
   "metadata": {},
   "outputs": [],
   "source": []
  },
  {
   "cell_type": "code",
   "execution_count": 7,
   "metadata": {},
   "outputs": [],
   "source": [
    "import matplotlib.pyplot as plt"
   ]
  },
  {
   "cell_type": "code",
   "execution_count": 8,
   "metadata": {},
   "outputs": [
    {
     "data": {
      "text/plain": [
       "Text(0.5,1,'Price $C$ of the European call option\\nas a function of strike $K$')"
      ]
     },
     "execution_count": 8,
     "metadata": {},
     "output_type": "execute_result"
    },
    {
     "data": {
      "image/png": "[encoded data removed]",
      "text/plain": [
       "<Figure size 800x500 with 1 Axes>"
      ]
     },
     "metadata": {
      "needs_background": "light"
     },
     "output_type": "display_data"
    }
   ],
   "source": [
    "sigma = 0.3\n",
    "r = b = 0.05\n",
    "n = 50\n",
    "K_values = [80+i for i in range(41)]\n",
    "call_values = [Calln(S0, T, n, r, b, sigma, K) for K in K_values]\n",
    "\n",
    "plt.figure(figsize=(8,5), dpi=100)\n",
    "plt.plot(K_values, call_values, '+')\n",
    "plt.xlabel(\"Strike $K$\")\n",
    "plt.ylabel(\"Price\")\n",
    "plt.title(\"Price $C$ of the European call option\\nas a function of strike $K$\")"
   ]
  },
  {
   "cell_type": "markdown",
   "metadata": {},
   "source": [
    "The option price for the European call option is convex and decreasing in the strike $K$, as expected as per the properties of such call options."
   ]
  },
  {
   "cell_type": "code",
   "execution_count": 9,
   "metadata": {},
   "outputs": [
    {
     "data": {
      "text/plain": [
       "Text(0.5,1,'Optimal hedge at time $j=0$\\nas function of strike $K$')"
      ]
     },
     "execution_count": 9,
     "metadata": {},
     "output_type": "execute_result"
    },
    {
     "data": {
      "image/png": "[encoded data removed]",
      "text/plain": [
       "<Figure size 800x500 with 1 Axes>"
      ]
     },
     "metadata": {
      "needs_background": "light"
     },
     "output_type": "display_data"
    }
   ],
   "source": [
    "start_hedges_ = [Deltan(S0, T, n, r, b, sigma, K, 0)[0] for K in K_values]\n",
    "\n",
    "plt.figure(figsize=(8,5), dpi=100)\n",
    "plt.plot(K_values, start_hedges_, '+')\n",
    "plt.xlabel(\"Strike $K$\")\n",
    "plt.ylabel(r\"Hedge ratio $\\theta_0^n$\")\n",
    "plt.title(\"Optimal hedge at time $j=0$\\nas function of strike $K$\")"
   ]
  },
  {
   "cell_type": "markdown",
   "metadata": {},
   "source": [
    "The starting optimal hedge ratio $\\theta^n_0$ is decreasing with respect to the strike $K$. (The same can be said of the ratio at other times since we can take any time $j$ as a starting point). This behaviour is somewhat expected: the higher the strike, the more likely the option will have zero return and we will lose money: the optimal hedging strategy to cover that risk will contain less of the asset."
   ]
  },
  {
   "cell_type": "markdown",
   "metadata": {},
   "source": [
    "# Question 2\n",
    "\n",
    "## 2a)"
   ]
  },
  {
   "cell_type": "markdown",
   "metadata": {},
   "source": [
    "In the Black-Scholes model, the price at $t=0$ of a maturity $T$ and strike $K$ call option is given by\n",
    "$$\n",
    "    C = S\\,\\mathrm{erf}(d_+) - K\\exp(-rT)\\,\\mathrm{erf}(d_-)\n",
    "$$"
   ]
  },
  {
   "cell_type": "markdown",
   "metadata": {},
   "source": [
    "where $\\mathrm{erf}$ is the normal distribution's cumulative density function, and \n",
    "$$\n",
    "    d_{\\pm} = \\frac{\\ln\\left(Se^{rT}/K\\right)}{\\sigma\\sqrt T} \\pm \\frac{\\sigma\\sqrt T}{2}\n",
    "$$"
   ]
  },
  {
   "cell_type": "code",
   "execution_count": 10,
   "metadata": {},
   "outputs": [],
   "source": [
    "def dplusminus_(s, k, v):\n",
    "    base = np.log(s/k)/np.sqrt(v)\n",
    "    vari = np.sqrt(v)/2\n",
    "    return (base-vari, base+vari)\n",
    "\n",
    "def CallBS(S, T, r, sigma, K):\n",
    "    dm, dp = dplusminus_(S, K*np.exp(-r*T), sigma*sigma*T)\n",
    "    return S*scipy.stats.norm.cdf(dp) - K*np.exp(-r*T)*scipy.stats.norm.cdf(dm)"
   ]
  },
  {
   "cell_type": "code",
   "execution_count": 11,
   "metadata": {},
   "outputs": [
    {
     "data": {
      "text/plain": [
       "32.19291006531836"
      ]
     },
     "execution_count": 11,
     "metadata": {},
     "output_type": "execute_result"
    }
   ],
   "source": [
    "K = 80\n",
    "CallBS(S0, T, r, sigma, K)"
   ]
  },
  {
   "cell_type": "code",
   "execution_count": 12,
   "metadata": {},
   "outputs": [],
   "source": [
    "def err(S, T, n, r, sigma, K):\n",
    "    return Calln(S, T, n, r, b, sigma, K)/CallBS(S, T, r, sigma, K) - 1"
   ]
  },
  {
   "cell_type": "code",
   "execution_count": 13,
   "metadata": {},
   "outputs": [
    {
     "data": {
      "text/plain": [
       "Text(0.5,0,'CRR time sample size $n$')"
      ]
     },
     "execution_count": 13,
     "metadata": {},
     "output_type": "execute_result"
    },
    {
     "data": {
      "image/png": "[encoded data removed]",
      "text/plain": [
       "<Figure size 1000x500 with 1 Axes>"
      ]
     },
     "metadata": {
      "needs_background": "light"
     },
     "output_type": "display_data"
    }
   ],
   "source": [
    "Nmax = 250\n",
    "error_estimates_ = [err(S0, T, ns, r, sigma, K) for ns in range(1, Nmax+1)]\n",
    "plt.figure(figsize=(10,5), dpi=100)\n",
    "plt.title(\"Error between Cox-Ross-Rubinstein at time resolution $n$\\nvs Black-Scholes model\")\n",
    "plt.hlines(0, 0, Nmax+1, 'r', zorder=-1)\n",
    "plt.scatter(np.arange(1, Nmax+1), error_estimates_, edgecolors='k', s=11)\n",
    "plt.ylabel('Error')\n",
    "plt.xlabel('CRR time sample size $n$')"
   ]
  },
  {
   "cell_type": "markdown",
   "metadata": {},
   "source": [
    "We observe very rapid convergence of the error towards zero (consistently below 0.5% by $n=100$): we can conclude that the Cox-Ross-Rubinstein models converges towards Black-Scholes at reasonable speed."
   ]
  }
 ],
 "metadata": {
  "kernelspec": {
   "display_name": "Python 3",
   "language": "python",
   "name": "python3"
  },
  "language_info": {
   "codemirror_mode": {
    "name": "ipython",
    "version": 3
   },
   "file_extension": ".py",
   "mimetype": "text/x-python",
   "name": "python",
   "nbconvert_exporter": "python",
   "pygments_lexer": "ipython3",
   "version": "3.7.0"
  }
 },
 "nbformat": 4,
 "nbformat_minor": 2
}
